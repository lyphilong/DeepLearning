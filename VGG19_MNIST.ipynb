{
  "nbformat": 4,
  "nbformat_minor": 0,
  "metadata": {
    "colab": {
      "name": "Lab_3.ipynb",
      "provenance": [],
      "collapsed_sections": []
    },
    "kernelspec": {
      "name": "python3",
      "display_name": "Python 3"
    },
    "accelerator": "GPU"
  },
  "cells": [
    {
      "cell_type": "code",
      "metadata": {
        "id": "LjZLLBNEXzGN",
        "colab_type": "code",
        "colab": {
          "base_uri": "https://localhost:8080/",
          "height": 62
        },
        "outputId": "5d4994cc-febc-4a7c-e725-8b726a0a2790"
      },
      "source": [
        "#import thư viện cần thiết\n",
        "## thư viện machine learning và hỗ trợ\n",
        "import tensorflow as tf\n",
        "from tensorflow import keras\n",
        "import numpy as np\n",
        "\n",
        "## thư viện để vẽ đồ thị\n",
        "import matplotlib.pyplot as plt"
      ],
      "execution_count": 1,
      "outputs": [
        {
          "output_type": "display_data",
          "data": {
            "text/html": [
              "<p style=\"color: red;\">\n",
              "The default version of TensorFlow in Colab will soon switch to TensorFlow 2.x.<br>\n",
              "We recommend you <a href=\"https://www.tensorflow.org/guide/migrate\" target=\"_blank\">upgrade</a> now \n",
              "or ensure your notebook will continue to use TensorFlow 1.x via the <code>%tensorflow_version 1.x</code> magic:\n",
              "<a href=\"https://colab.research.google.com/notebooks/tensorflow_version.ipynb\" target=\"_blank\">more info</a>.</p>\n"
            ],
            "text/plain": [
              "<IPython.core.display.HTML object>"
            ]
          },
          "metadata": {
            "tags": []
          }
        }
      ]
    },
    {
      "cell_type": "code",
      "metadata": {
        "id": "XWtQv3eGXq1B",
        "colab_type": "code",
        "outputId": "3c18902d-e775-47c8-ef8c-f1edbb989635",
        "colab": {
          "base_uri": "https://localhost:8080/",
          "height": 1090
        }
      },
      "source": [
        "vgg19 = keras.applications.vgg19.VGG19(include_top=True, \n",
        "                                       weights=None, \n",
        "                                       input_tensor=None, \n",
        "                                       input_shape=(32,32,1), \n",
        "                                       pooling='max',\n",
        "                                       classes=10)\n",
        "vgg19.summary()"
      ],
      "execution_count": 2,
      "outputs": [
        {
          "output_type": "stream",
          "text": [
            "WARNING:tensorflow:From /usr/local/lib/python3.6/dist-packages/tensorflow_core/python/ops/resource_variable_ops.py:1630: calling BaseResourceVariable.__init__ (from tensorflow.python.ops.resource_variable_ops) with constraint is deprecated and will be removed in a future version.\n",
            "Instructions for updating:\n",
            "If using Keras pass *_constraint arguments to layers.\n",
            "Model: \"vgg19\"\n",
            "_________________________________________________________________\n",
            "Layer (type)                 Output Shape              Param #   \n",
            "=================================================================\n",
            "input_1 (InputLayer)         [(None, 32, 32, 1)]       0         \n",
            "_________________________________________________________________\n",
            "block1_conv1 (Conv2D)        (None, 32, 32, 64)        640       \n",
            "_________________________________________________________________\n",
            "block1_conv2 (Conv2D)        (None, 32, 32, 64)        36928     \n",
            "_________________________________________________________________\n",
            "block1_pool (MaxPooling2D)   (None, 16, 16, 64)        0         \n",
            "_________________________________________________________________\n",
            "block2_conv1 (Conv2D)        (None, 16, 16, 128)       73856     \n",
            "_________________________________________________________________\n",
            "block2_conv2 (Conv2D)        (None, 16, 16, 128)       147584    \n",
            "_________________________________________________________________\n",
            "block2_pool (MaxPooling2D)   (None, 8, 8, 128)         0         \n",
            "_________________________________________________________________\n",
            "block3_conv1 (Conv2D)        (None, 8, 8, 256)         295168    \n",
            "_________________________________________________________________\n",
            "block3_conv2 (Conv2D)        (None, 8, 8, 256)         590080    \n",
            "_________________________________________________________________\n",
            "block3_conv3 (Conv2D)        (None, 8, 8, 256)         590080    \n",
            "_________________________________________________________________\n",
            "block3_conv4 (Conv2D)        (None, 8, 8, 256)         590080    \n",
            "_________________________________________________________________\n",
            "block3_pool (MaxPooling2D)   (None, 4, 4, 256)         0         \n",
            "_________________________________________________________________\n",
            "block4_conv1 (Conv2D)        (None, 4, 4, 512)         1180160   \n",
            "_________________________________________________________________\n",
            "block4_conv2 (Conv2D)        (None, 4, 4, 512)         2359808   \n",
            "_________________________________________________________________\n",
            "block4_conv3 (Conv2D)        (None, 4, 4, 512)         2359808   \n",
            "_________________________________________________________________\n",
            "block4_conv4 (Conv2D)        (None, 4, 4, 512)         2359808   \n",
            "_________________________________________________________________\n",
            "block4_pool (MaxPooling2D)   (None, 2, 2, 512)         0         \n",
            "_________________________________________________________________\n",
            "block5_conv1 (Conv2D)        (None, 2, 2, 512)         2359808   \n",
            "_________________________________________________________________\n",
            "block5_conv2 (Conv2D)        (None, 2, 2, 512)         2359808   \n",
            "_________________________________________________________________\n",
            "block5_conv3 (Conv2D)        (None, 2, 2, 512)         2359808   \n",
            "_________________________________________________________________\n",
            "block5_conv4 (Conv2D)        (None, 2, 2, 512)         2359808   \n",
            "_________________________________________________________________\n",
            "block5_pool (MaxPooling2D)   (None, 1, 1, 512)         0         \n",
            "_________________________________________________________________\n",
            "flatten (Flatten)            (None, 512)               0         \n",
            "_________________________________________________________________\n",
            "fc1 (Dense)                  (None, 4096)              2101248   \n",
            "_________________________________________________________________\n",
            "fc2 (Dense)                  (None, 4096)              16781312  \n",
            "_________________________________________________________________\n",
            "predictions (Dense)          (None, 10)                40970     \n",
            "=================================================================\n",
            "Total params: 38,946,762\n",
            "Trainable params: 38,946,762\n",
            "Non-trainable params: 0\n",
            "_________________________________________________________________\n"
          ],
          "name": "stdout"
        }
      ]
    },
    {
      "cell_type": "code",
      "metadata": {
        "id": "uPJqMEZIX789",
        "colab_type": "code",
        "outputId": "2afe97da-f420-4594-bdf7-abd152feed6b",
        "colab": {
          "base_uri": "https://localhost:8080/",
          "height": 1121
        }
      },
      "source": [
        "## import l2 regularizer\n",
        "## l2 sẽ được khai báo truyền vào khi khởi tạo lớp\n",
        "from keras.regularizers import l2\n",
        "l2_regularizer_rate = 0.0005\n",
        "\n",
        "## Tạo lớp input kích thước (None, 32, 32, 1)\n",
        "inputs = keras.layers.Input(shape=(32,32,1))\n",
        "\n",
        "### Block 1\n",
        "#### Gồm 2 lớp convolution và 1 lớp maxpoool\n",
        "#### Lớp convolution số filter 64, kernel size 3x3, hàm kích hoạt ReLU\n",
        "conv1_1 = keras.layers.Convolution2D(filters=64,\n",
        "                                     kernel_size=[3,3],\n",
        "                                     strides=[1,1],\n",
        "                                     padding='same',\n",
        "                                     activation=tf.nn.relu)(inputs)\n",
        "conv1_2 = keras.layers.Convolution2D(filters=64,\n",
        "                                     kernel_size=[3,3],\n",
        "                                     strides=[1,1],\n",
        "                                     padding='same',\n",
        "                                     activation=tf.nn.relu)(conv1_1)\n",
        "maxpool1 = keras.layers.MaxPool2D(pool_size=[2,2],\n",
        "                                  strides=[2,2])(conv1_2)\n",
        "\n",
        "### Block 2\n",
        "#### Gồm 2 lớp convolution và 1 lớp maxpoool\n",
        "#### Lớp convolution số filter 128, kernel size 3x3, hàm kích hoạt ReLU\n",
        "conv2_1 = keras.layers.Convolution2D(filters=128,\n",
        "                                     kernel_size=[3,3],\n",
        "                                     strides=[1,1],\n",
        "                                     padding='same',\n",
        "                                     activation=tf.nn.relu)(maxpool1)\n",
        "conv2_2 = keras.layers.Convolution2D(filters=128,\n",
        "                                     kernel_size=[3,3],\n",
        "                                     strides=[1,1],\n",
        "                                     padding='same',\n",
        "                                     activation=tf.nn.relu)(conv2_1)\n",
        "maxpool2 = keras.layers.MaxPool2D(pool_size=[2,2],\n",
        "                                  strides=[2,2])(conv2_2)\n",
        "\n",
        "### Block 3\n",
        "#### Gồm 4 lớp convolution và 1 lớp maxpoool\n",
        "#### Lớp convolution số filter 256, kernel size 3x3, hàm kích hoạt ReLU\n",
        "conv3_1 = keras.layers.Convolution2D(filters=256,\n",
        "                                     kernel_size=[3,3],\n",
        "                                     strides=[1,1],\n",
        "                                     padding='same',\n",
        "                                     activation=tf.nn.relu)(maxpool2)\n",
        "conv3_2 = keras.layers.Convolution2D(filters=256,\n",
        "                                     kernel_size=[3,3],\n",
        "                                     strides=[1,1],\n",
        "                                     padding='same',\n",
        "                                     activation=tf.nn.relu)(conv3_1)\n",
        "conv3_3 = keras.layers.Convolution2D(filters=256,\n",
        "                                     kernel_size=[3,3],\n",
        "                                     strides=[1,1],\n",
        "                                     padding='same',\n",
        "                                     activation=tf.nn.relu)(conv3_2)\n",
        "conv3_4 = keras.layers.Convolution2D(filters=256,\n",
        "                                     kernel_size=[3,3],\n",
        "                                     strides=[1,1],\n",
        "                                     padding='same',\n",
        "                                     activation=tf.nn.relu)(conv3_3)                  \n",
        "maxpool3 = keras.layers.MaxPool2D(pool_size=[2,2],\n",
        "                                  strides=[2,2])(conv3_4)\n",
        "\n",
        "### Block 4\n",
        "#### Gồm 3 lớp convolution và 1 lớp maxpoool\n",
        "#### Lớp convolution số filter 512, kernel size 3x3, hàm kích hoạt ReLU\n",
        "conv4_1 = keras.layers.Convolution2D(filters=512,\n",
        "                                     kernel_size=[3,3],\n",
        "                                     strides=[1,1],\n",
        "                                     padding='same',\n",
        "                                     activation=tf.nn.relu)(maxpool3)\n",
        "conv4_2 = keras.layers.Convolution2D(filters=512,\n",
        "                                     kernel_size=[3,3],\n",
        "                                     strides=[1,1],\n",
        "                                     padding='same',\n",
        "                                     activation=tf.nn.relu)(conv4_1)\n",
        "conv4_3 = keras.layers.Convolution2D(filters=512,\n",
        "                                     kernel_size=[3,3],\n",
        "                                     strides=[1,1],\n",
        "                                     padding='same',\n",
        "                                     activation=tf.nn.relu)(conv4_2)\n",
        "conv4_4 = keras.layers.Convolution2D(filters=512,\n",
        "                                     kernel_size=[3,3],\n",
        "                                     strides=[1,1],\n",
        "                                     padding='same',\n",
        "                                     activation=tf.nn.relu)(conv4_3)\n",
        "maxpool4 = keras.layers.MaxPool2D(pool_size=[2,2],\n",
        "                                  strides=[2,2])(conv4_4)\n",
        "\n",
        "### Block 5\n",
        "#### Gồm 3 lớp convolution và 1 lớp maxpoool\n",
        "#### Lớp convolution số filter 512, kernel size 3x3, hàm kích hoạt ReLU\n",
        "conv5_1 = keras.layers.Convolution2D(filters=512,\n",
        "                                     kernel_size=[3,3],\n",
        "                                     strides=[1,1],\n",
        "                                     padding='same',\n",
        "                                     activation=tf.nn.relu)(maxpool4)\n",
        "conv5_2 = keras.layers.Convolution2D(filters=512,\n",
        "                                     kernel_size=[3,3],\n",
        "                                     strides=[1,1],\n",
        "                                     padding='same',\n",
        "                                     activation=tf.nn.relu)(conv5_1)\n",
        "conv5_3 = keras.layers.Convolution2D(filters=512,\n",
        "                                     kernel_size=[3,3],\n",
        "                                     strides=[1,1],\n",
        "                                     padding='same',\n",
        "                                     activation=tf.nn.relu)(conv5_2)\n",
        "conv5_4 = keras.layers.Convolution2D(filters=512,\n",
        "                                     kernel_size=[3,3],\n",
        "                                     strides=[1,1],\n",
        "                                     padding='same',\n",
        "                                     activation=tf.nn.relu)(conv5_3)\n",
        "maxpool5 = keras.layers.MaxPool2D(pool_size=[2,2],\n",
        "                                  strides=[2,2])(conv5_4)\n",
        "\n",
        "### Block cuối\n",
        "#### Gồm 2 lớp fully-connected và 1 lớp output (cũng fully-connected)\n",
        "#### Số neurons trong 3 lớp lần lượt là 4096, 4096, 10\n",
        "flatten6 = keras.layers.Flatten()(maxpool5)\n",
        "dense6_1 = keras.layers.Dense(units=4096, \n",
        "                              activation='relu',\n",
        "                              kernel_regularizer=l2(l2_regularizer_rate))(flatten6)\n",
        "dropout6_1 = keras.layers.Dropout(rate=0.5)(dense6_1)  ## Lớp Dropout (chỉ chạy khi train), rate: xác suất bị drop\n",
        "\n",
        "dense6_2 = keras.layers.Dense(units=4096, \n",
        "                              activation='relu',\n",
        "                              kernel_regularizer=l2(l2_regularizer_rate))(dropout6_1)\n",
        "dropout6_2 = keras.layers.Dropout(rate=0.5)(dense6_2)  ## Lớp Dropout (chỉ chạy khi train), rate: xác suất bị drop\n",
        "\n",
        "softmax = keras.layers.Dense(units=10, \n",
        "                             activation='softmax')(dropout6_2)\n",
        "\n",
        "\n",
        "## Compile model\n",
        "model = keras.models.Model(inputs=inputs, outputs=softmax)\n",
        "model.compile(optimizer=keras.optimizers.Adam(learning_rate=0.0001),    ##tự khai báo Optimizer với learning rate 10^-4\n",
        "             loss=tf.keras.losses.sparse_categorical_crossentropy,\n",
        "             metrics=[\"accuracy\"])\n",
        "    \n",
        "\n",
        "## In toàn bộ cấu trúc của model\n",
        "print(\"Cấu trúc của model: \")\n",
        "model.summary()"
      ],
      "execution_count": 3,
      "outputs": [
        {
          "output_type": "stream",
          "text": [
            "Using TensorFlow backend.\n"
          ],
          "name": "stderr"
        },
        {
          "output_type": "stream",
          "text": [
            "Cấu trúc của model: \n",
            "Model: \"model\"\n",
            "_________________________________________________________________\n",
            "Layer (type)                 Output Shape              Param #   \n",
            "=================================================================\n",
            "input_2 (InputLayer)         [(None, 32, 32, 1)]       0         \n",
            "_________________________________________________________________\n",
            "conv2d (Conv2D)              (None, 32, 32, 64)        640       \n",
            "_________________________________________________________________\n",
            "conv2d_1 (Conv2D)            (None, 32, 32, 64)        36928     \n",
            "_________________________________________________________________\n",
            "max_pooling2d (MaxPooling2D) (None, 16, 16, 64)        0         \n",
            "_________________________________________________________________\n",
            "conv2d_2 (Conv2D)            (None, 16, 16, 128)       73856     \n",
            "_________________________________________________________________\n",
            "conv2d_3 (Conv2D)            (None, 16, 16, 128)       147584    \n",
            "_________________________________________________________________\n",
            "max_pooling2d_1 (MaxPooling2 (None, 8, 8, 128)         0         \n",
            "_________________________________________________________________\n",
            "conv2d_4 (Conv2D)            (None, 8, 8, 256)         295168    \n",
            "_________________________________________________________________\n",
            "conv2d_5 (Conv2D)            (None, 8, 8, 256)         590080    \n",
            "_________________________________________________________________\n",
            "conv2d_6 (Conv2D)            (None, 8, 8, 256)         590080    \n",
            "_________________________________________________________________\n",
            "conv2d_7 (Conv2D)            (None, 8, 8, 256)         590080    \n",
            "_________________________________________________________________\n",
            "max_pooling2d_2 (MaxPooling2 (None, 4, 4, 256)         0         \n",
            "_________________________________________________________________\n",
            "conv2d_8 (Conv2D)            (None, 4, 4, 512)         1180160   \n",
            "_________________________________________________________________\n",
            "conv2d_9 (Conv2D)            (None, 4, 4, 512)         2359808   \n",
            "_________________________________________________________________\n",
            "conv2d_10 (Conv2D)           (None, 4, 4, 512)         2359808   \n",
            "_________________________________________________________________\n",
            "conv2d_11 (Conv2D)           (None, 4, 4, 512)         2359808   \n",
            "_________________________________________________________________\n",
            "max_pooling2d_3 (MaxPooling2 (None, 2, 2, 512)         0         \n",
            "_________________________________________________________________\n",
            "conv2d_12 (Conv2D)           (None, 2, 2, 512)         2359808   \n",
            "_________________________________________________________________\n",
            "conv2d_13 (Conv2D)           (None, 2, 2, 512)         2359808   \n",
            "_________________________________________________________________\n",
            "conv2d_14 (Conv2D)           (None, 2, 2, 512)         2359808   \n",
            "_________________________________________________________________\n",
            "conv2d_15 (Conv2D)           (None, 2, 2, 512)         2359808   \n",
            "_________________________________________________________________\n",
            "max_pooling2d_4 (MaxPooling2 (None, 1, 1, 512)         0         \n",
            "_________________________________________________________________\n",
            "flatten (Flatten)            (None, 512)               0         \n",
            "_________________________________________________________________\n",
            "dense (Dense)                (None, 4096)              2101248   \n",
            "_________________________________________________________________\n",
            "dropout (Dropout)            (None, 4096)              0         \n",
            "_________________________________________________________________\n",
            "dense_1 (Dense)              (None, 4096)              16781312  \n",
            "_________________________________________________________________\n",
            "dropout_1 (Dropout)          (None, 4096)              0         \n",
            "_________________________________________________________________\n",
            "dense_2 (Dense)              (None, 10)                40970     \n",
            "=================================================================\n",
            "Total params: 38,946,762\n",
            "Trainable params: 38,946,762\n",
            "Non-trainable params: 0\n",
            "_________________________________________________________________\n"
          ],
          "name": "stdout"
        }
      ]
    },
    {
      "cell_type": "code",
      "metadata": {
        "id": "WCgCPRyPuP6r",
        "colab_type": "code",
        "outputId": "0740593a-62f3-4dee-b306-565650273f47",
        "colab": {
          "base_uri": "https://localhost:8080/",
          "height": 33
        }
      },
      "source": [
        "# Tải dataset MNIST từ tensorflow\n",
        "## MNIST là bài toán dự đoán một ảnh thể hiện ký tự số nào\n",
        "\n",
        "## tải MNIST dataset từ keras\n",
        "(X_train, y_train), (X_test, y_test) = keras.datasets.mnist.load_data()\n",
        "##resacle ảnh thành ảnh thực trong đoạn [0,1]\n",
        "X_train, X_test = X_train/255.0, X_test/255.0\n",
        "\n",
        "##in dataset\n",
        "print(X_train.shape, y_train.shape, X_test.shape, y_test.shape)"
      ],
      "execution_count": 4,
      "outputs": [
        {
          "output_type": "stream",
          "text": [
            "(60000, 28, 28) (60000,) (10000, 28, 28) (10000,)\n"
          ],
          "name": "stdout"
        }
      ]
    },
    {
      "cell_type": "code",
      "metadata": {
        "id": "xBYOIT7FuYxM",
        "colab_type": "code",
        "outputId": "525a3961-3130-46d1-af9c-6f3b7939bb15",
        "colab": {
          "base_uri": "https://localhost:8080/",
          "height": 33
        }
      },
      "source": [
        "## import thư viện OpenCV trên python\n",
        "#!pip3 install opencv-python\n",
        "\n",
        "### Thử resize một ảnh\n",
        "import cv2\n",
        "resized_img = cv2.resize(X_train[0], dsize=(32,32))\n",
        "print(\"Kích thước ảnh sau resize: \", resized_img.shape)"
      ],
      "execution_count": 5,
      "outputs": [
        {
          "output_type": "stream",
          "text": [
            "Kích thước ảnh sau resize:  (32, 32)\n"
          ],
          "name": "stdout"
        }
      ]
    },
    {
      "cell_type": "code",
      "metadata": {
        "id": "yMUe3v_BubW9",
        "colab_type": "code",
        "outputId": "f178162f-895c-4de5-ce9a-51bd2f0d78f6",
        "colab": {
          "base_uri": "https://localhost:8080/",
          "height": 548
        }
      },
      "source": [
        "## Resize toàn bộ ảnh train tập train và test\n",
        "X_train = np.array([cv2.resize(img, dsize=(32,32)) for img in X_train])\n",
        "X_test = np.array([cv2.resize(img, dsize=(32,32)) for img in X_test])\n",
        "print(\"Kích thước tập sau khi resize: \", X_train.shape, X_test.shape)\n",
        "\n",
        "## In xem ảnh còn ổn không sau khi resize\n",
        "plt.imshow(X_train[0])\n",
        "plt.show()\n",
        "\n",
        "## Reshape ảnh để phù hợp với input của model (thêm một trục)\n",
        "X_train = np.expand_dims(X_train, axis=-1)\n",
        "X_test = np.expand_dims(X_test, axis=-1)\n",
        "print(\"Kích thước tập sau khi reshape: \", X_train.shape, X_test.shape)\n",
        "\n",
        "plt.imshow(X_train[0,:,:,0])\n",
        "plt.show()\n",
        "\n",
        "#Tách một phần tập train thành tập valid\n",
        "from sklearn.model_selection import train_test_split\n",
        "X_train, X_valid, y_train, y_valid = train_test_split(X_train, y_train, test_size=0.1)\n",
        "\n",
        "## Reshape ảnh để phù hợp với input của model (thêm một trục)"
      ],
      "execution_count": 6,
      "outputs": [
        {
          "output_type": "stream",
          "text": [
            "Kích thước tập sau khi resize:  (60000, 32, 32) (10000, 32, 32)\n"
          ],
          "name": "stdout"
        },
        {
          "output_type": "display_data",
          "data": {
            "image/png": "[encoded data removed]",
            "text/plain": [
              "<Figure size 432x288 with 1 Axes>"
            ]
          },
          "metadata": {
            "tags": []
          }
        },
        {
          "output_type": "stream",
          "text": [
            "Kích thước tập sau khi reshape:  (60000, 32, 32, 1) (10000, 32, 32, 1)\n"
          ],
          "name": "stdout"
        },
        {
          "output_type": "display_data",
          "data": {
            "image/png": "[encoded data removed]",
            "text/plain": [
              "<Figure size 432x288 with 1 Axes>"
            ]
          },
          "metadata": {
            "tags": []
          }
        }
      ]
    },
    {
      "cell_type": "code",
      "metadata": {
        "id": "Gz5uhSZ7uerg",
        "colab_type": "code",
        "outputId": "05735420-fd43-42d0-a43a-d2d6fe724f46",
        "colab": {
          "base_uri": "https://localhost:8080/",
          "height": 652
        }
      },
      "source": [
        "### Tạo một callback ModelCheckpoint: callback này sẽ lưu model mỗi khi tìm được một model tốt hơn\n",
        "#### filepath: đường dẫn file muốn lưu\n",
        "#### monitor: đại lượng quyết định xem model có \"tốt hơn\" hay không\n",
        "#### mode='auto'/'max'/'min': đại lượng monitor lớn hay nhỏ là tốt hơn\n",
        "#### verbose: có thông báo mỗi lần lưu ko\n",
        "#### save_best_only: chỉ lưu model tốt nhất\n",
        "mc = keras.callbacks.ModelCheckpoint(filepath=\"vgg19_mnist.h5\", \n",
        "                                     monitor='val_loss',\n",
        "                                     mode='min', \n",
        "                                     verbose=0, \n",
        "                                     save_best_only=True)\n",
        "\n",
        "## Train  ## Khuyến cáo chạy COLAB (hoặc tương tự)\n",
        "history = model.fit(X_train, y_train,\n",
        "                    batch_size=128,\n",
        "                    epochs=15,\n",
        "                    validation_data=(X_valid, y_valid),\n",
        "                    callbacks=[mc])                     ##sử dụng callback ModelCheckpoint trong quá trình train\n",
        "\n",
        "\n",
        "## Đánh giá model trên tập test\n",
        "valid_loss, valid_acc = model.evaluate(X_valid, y_valid)\n",
        "test_loss, test_acc = model.evaluate(X_test, y_test)\n",
        "print(\"Valid: loss {} acc {} -- Test: loss {} acc {}\".format(valid_loss, valid_acc, test_loss, test_acc))\n",
        "\n",
        "## Load lại model tốt nhất đã lưu\n",
        "print(\"best model: \")\n",
        "model.load_weights(\"vgg19_mnist.h5\")\n",
        "valid_loss, valid_acc = model.evaluate(X_valid, y_valid)\n",
        "test_loss, test_acc = model.evaluate(X_test, y_test)\n",
        "print(\"Valid: loss {} acc 3{} -- Test: loss {} acc {}\".format(valid_loss, valid_acc, test_loss, test_acc))"
      ],
      "execution_count": 7,
      "outputs": [
        {
          "output_type": "stream",
          "text": [
            "Train on 54000 samples, validate on 6000 samples\n",
            "Epoch 1/15\n",
            "54000/54000 [==============================] - 83s 2ms/sample - loss: 2.1166 - acc: 0.4233 - val_loss: 0.7398 - val_acc: 0.8265\n",
            "Epoch 2/15\n",
            "54000/54000 [==============================] - 76s 1ms/sample - loss: 0.4301 - acc: 0.9419 - val_loss: 0.2984 - val_acc: 0.9690\n",
            "Epoch 3/15\n",
            "54000/54000 [==============================] - 76s 1ms/sample - loss: 0.2459 - acc: 0.9766 - val_loss: 0.1856 - val_acc: 0.9847\n",
            "Epoch 4/15\n",
            "54000/54000 [==============================] - 76s 1ms/sample - loss: 0.1719 - acc: 0.9838 - val_loss: 0.1561 - val_acc: 0.9837\n",
            "Epoch 5/15\n",
            "54000/54000 [==============================] - 76s 1ms/sample - loss: 0.1314 - acc: 0.9875 - val_loss: 0.1252 - val_acc: 0.9855\n",
            "Epoch 6/15\n",
            "54000/54000 [==============================] - 77s 1ms/sample - loss: 0.1046 - acc: 0.9894 - val_loss: 0.0960 - val_acc: 0.9893\n",
            "Epoch 7/15\n",
            "54000/54000 [==============================] - 76s 1ms/sample - loss: 0.0800 - acc: 0.9916 - val_loss: 0.0895 - val_acc: 0.9885\n",
            "Epoch 8/15\n",
            "54000/54000 [==============================] - 76s 1ms/sample - loss: 0.0716 - acc: 0.9910 - val_loss: 0.0720 - val_acc: 0.9898\n",
            "Epoch 9/15\n",
            "54000/54000 [==============================] - 76s 1ms/sample - loss: 0.0549 - acc: 0.9935 - val_loss: 0.0674 - val_acc: 0.9907\n",
            "Epoch 10/15\n",
            "54000/54000 [==============================] - 75s 1ms/sample - loss: 0.0492 - acc: 0.9934 - val_loss: 0.0847 - val_acc: 0.9872\n",
            "Epoch 11/15\n",
            "54000/54000 [==============================] - 76s 1ms/sample - loss: 0.0470 - acc: 0.9933 - val_loss: 0.0606 - val_acc: 0.9905\n",
            "Epoch 12/15\n",
            "54000/54000 [==============================] - 76s 1ms/sample - loss: 0.0390 - acc: 0.9947 - val_loss: 0.0541 - val_acc: 0.9912\n",
            "Epoch 13/15\n",
            "54000/54000 [==============================] - 75s 1ms/sample - loss: 0.0353 - acc: 0.9946 - val_loss: 0.0681 - val_acc: 0.9897\n",
            "Epoch 14/15\n",
            "54000/54000 [==============================] - 77s 1ms/sample - loss: 0.0353 - acc: 0.9949 - val_loss: 0.0398 - val_acc: 0.9940\n",
            "Epoch 15/15\n",
            "54000/54000 [==============================] - 75s 1ms/sample - loss: 0.0289 - acc: 0.9958 - val_loss: 0.0492 - val_acc: 0.9920\n",
            "6000/6000 [==============================] - 6s 921us/sample - loss: 0.0492 - acc: 0.9920\n",
            "10000/10000 [==============================] - 8s 794us/sample - loss: 0.0363 - acc: 0.9940\n",
            "Valid: loss 0.049155028335750105 acc 0.9919999837875366 -- Test: loss 0.036290118020772935 acc 0.9940000176429749\n",
            "best model: \n",
            "6000/6000 [==============================] - 5s 792us/sample - loss: 0.0398 - acc: 0.9940\n",
            "10000/10000 [==============================] - 8s 787us/sample - loss: 0.0357 - acc: 0.9944\n",
            "Valid: loss 0.039765578555564084 acc 30.9940000176429749 -- Test: loss 0.03571688270717859 acc 0.9944000244140625\n"
          ],
          "name": "stdout"
        }
      ]
    }
  ]
}