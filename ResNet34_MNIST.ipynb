{
  "nbformat": 4,
  "nbformat_minor": 0,
  "metadata": {
    "accelerator": "GPU",
    "colab": {
      "name": "AML_Lab04.ipynb",
      "provenance": [],
      "collapsed_sections": []
    },
    "kernelspec": {
      "name": "python3",
      "display_name": "Python 3"
    },
    "language_info": {
      "codemirror_mode": {
        "name": "ipython",
        "version": 3
      },
      "file_extension": ".py",
      "mimetype": "text/x-python",
      "name": "python",
      "nbconvert_exporter": "python",
      "pygments_lexer": "ipython3",
      "version": "3.7.2"
    }
  },
  "cells": [
    {
      "cell_type": "markdown",
      "metadata": {
        "id": "ySPILjNvh5UE",
        "colab_type": "text"
      },
      "source": [
        "#Lý Phi Long - 1611146"
      ]
    },
    {
      "cell_type": "code",
      "metadata": {
        "colab_type": "code",
        "id": "o7yiMO-bEBOl",
        "colab": {
          "base_uri": "https://localhost:8080/",
          "height": 62
        },
        "outputId": "2a408f16-7556-4121-e107-84509b655fc0"
      },
      "source": [
        "#import thư viện cần thiết\n",
        "## thư viện machine learning và hỗ trợ\n",
        "import tensorflow as tf\n",
        "from tensorflow import keras\n",
        "import numpy as np\n",
        "\n",
        "## thư viện để vẽ đồ thị\n",
        "import matplotlib.pyplot as plt\n"
      ],
      "execution_count": 1,
      "outputs": [
        {
          "output_type": "display_data",
          "data": {
            "text/html": [
              "<p style=\"color: red;\">\n",
              "The default version of TensorFlow in Colab will soon switch to TensorFlow 2.x.<br>\n",
              "We recommend you <a href=\"https://www.tensorflow.org/guide/migrate\" target=\"_blank\">upgrade</a> now \n",
              "or ensure your notebook will continue to use TensorFlow 1.x via the <code>%tensorflow_version 1.x</code> magic:\n",
              "<a href=\"https://colab.research.google.com/notebooks/tensorflow_version.ipynb\" target=\"_blank\">more info</a>.</p>\n"
            ],
            "text/plain": [
              "<IPython.core.display.HTML object>"
            ]
          },
          "metadata": {
            "tags": []
          }
        }
      ]
    },
    {
      "cell_type": "code",
      "metadata": {
        "id": "PobzsRzbvzTG",
        "colab_type": "code",
        "outputId": "c229f29f-41de-446c-b3cf-f9ceb2ce20ce",
        "colab": {
          "base_uri": "https://localhost:8080/",
          "height": 34
        }
      },
      "source": [
        "tf.__version__"
      ],
      "execution_count": 2,
      "outputs": [
        {
          "output_type": "execute_result",
          "data": {
            "text/plain": [
              "'1.15.0'"
            ]
          },
          "metadata": {
            "tags": []
          },
          "execution_count": 2
        }
      ]
    },
    {
      "cell_type": "code",
      "metadata": {
        "colab_type": "code",
        "id": "8c6cqf3MEBOr",
        "colab": {}
      },
      "source": [
        "from tensorflow.keras.layers import Input, Dense, Convolution2D, MaxPool2D, BatchNormalization, ReLU, GlobalAveragePooling2D\n",
        "\n",
        "class BottleneckResidualBlock(keras.layers.Layer):\n",
        "\n",
        "    def __init__(self, n_filters=64, kernel_regularizer=None, down_sampling=False):\n",
        "        ## Gọi hàm khởi tạo của keras.layers.Layer và lưu lại các thông số\n",
        "        super(BottleneckResidualBlock, self).__init__()\n",
        "        self.n_filters = n_filters\n",
        "        self.down_sampling = down_sampling\n",
        "        self.kernel_regularizer = kernel_regularizer\n",
        "    \n",
        "    ## override hàm này để có thể lưu file\n",
        "    def get_config(self):\n",
        "        ## lấy config của lớp cha\n",
        "        config = super(BottleneckResidualBlock, self).get_config()\n",
        "        ## thêm config của lớp này\n",
        "        config.update({\n",
        "            'n_filters': self.n_filters,\n",
        "            \"down_sampling\": self.down_sampling,\n",
        "        })\n",
        "        return config\n",
        "    \n",
        "    def build(self, input_shape):\n",
        "        \n",
        "        ## Xác định xem input_shape có bằng output_shape không\n",
        "        self.projection_shortcut = (int(input_shape[-1]) != self.n_filters) or self.down_sampling\n",
        "        \n",
        "        ## Nếu cần down sampling thì convolutional layer đầu tiên dùng strides=[2,2]\n",
        "        first_strides = [1,1]\n",
        "        if self.down_sampling:\n",
        "            first_strides = [2,2]\n",
        "            \n",
        "        filter1 = int(self.n_filters/4)\n",
        "        ##Khai báo các layer nhánh chính\n",
        "        self.main_conv1 = Convolution2D(filters=filter1,\n",
        "                                         kernel_size=[1,1],\n",
        "                                         strides=first_strides,   \n",
        "                                         padding='same',\n",
        "                                         kernel_regularizer=self.kernel_regularizer,\n",
        "                                          activation=None)\n",
        "        self.main_batch1 = BatchNormalization()\n",
        "        self.main_relu1 = ReLU()\n",
        "\n",
        "        self.main_conv2 = Convolution2D(filters=filter1, #bottleneck filter\n",
        "                                              kernel_size=[3,3],\n",
        "                                              strides=[1,1], \n",
        "                                              padding='same',\n",
        "                                              kernel_regularizer=self.kernel_regularizer,\n",
        "                                              activation=None)\n",
        "        self.main_batch2 = BatchNormalization()\n",
        "        self.main_relu2 = ReLU()\n",
        "\n",
        "        self.main_conv3 = Convolution2D(filters=self.n_filters,\n",
        "                                        kernel_size=[1,1],\n",
        "                                        strides=[1,1],\n",
        "                                        padding='same',\n",
        "                                        kernel_regularizer=self.kernel_regularizer,\n",
        "                                        activation=None)\n",
        "        self.main_batch3 = BatchNormalization()\n",
        "\n",
        "        ## Khai báo các layer nhánh shortcut\n",
        "        if self.projection_shortcut:\n",
        "            self.shortcut_conv = Convolution2D(filters=self.n_filters,              ### N_FILETERS bằng N_FILTERS của output\n",
        "                                                        kernel_size=[1,1],          ### KERNEL_SIZE = [1,1]\n",
        "                                                        strides=first_strides,      ### STRIDES: giống STRIDES của conv đầu\n",
        "                                                        padding='same',\n",
        "                                                        kernel_regularizer=self.kernel_regularizer,\n",
        "                                                        activation=None)\n",
        "            self.shortcut_batch = BatchNormalization()\n",
        "\n",
        "        self.main_relu3 = ReLU()\n",
        "\n",
        "    def call(self, inputs):\n",
        "        \n",
        "        ## Thiết lập các input cho các layer đã khai báo\n",
        "        main_conv1 = self.main_conv1(inputs)\n",
        "        main_batch1 = self.main_batch1(main_conv1)\n",
        "        main_relu1 = self.main_relu1(main_batch1)\n",
        "        #print('conv1',main_conv1.shape)\n",
        "        \n",
        "        main_conv2 = self.main_conv2(main_relu1)\n",
        "        main_batch2 = self.main_batch2(main_conv2)\n",
        "        main_relu2 = self.main_relu2(main_batch2)\n",
        "        #print('conv2',main_conv2.shape)\n",
        "        \n",
        "        main_conv3 = self.main_conv3(main_relu2)\n",
        "        main_batch3 = self.main_batch3(main_conv3)\n",
        "        #print('conv3',main_conv3.shape)\n",
        "        \n",
        "        if self.projection_shortcut:\n",
        "            shortcut_conv = self.shortcut_conv(inputs)\n",
        "            shortcut_batch = self.shortcut_batch(shortcut_conv)\n",
        "            \n",
        "            ## Nếu input_shape != output_shape thì shortcut là convolutional layer\n",
        "            shortcut = shortcut_batch\n",
        "        else:\n",
        "            ## Nếu input_shape == output_shape thì shortcut là inputs\n",
        "            shortcut = inputs\n",
        "        main_add = main_batch3 + shortcut\n",
        "        main_relu3 = self.main_relu3(main_add)\n",
        "        return main_relu3"
      ],
      "execution_count": 0,
      "outputs": []
    },
    {
      "cell_type": "code",
      "metadata": {
        "id": "kLb-xthflKob",
        "colab_type": "code",
        "outputId": "559d13b7-486a-4829-c81d-1eb31de9c85f",
        "colab": {
          "base_uri": "https://localhost:8080/",
          "height": 1000
        }
      },
      "source": [
        "from keras.regularizers import l2\n",
        "l2_regularizer_rate = 0.0001\n",
        "\n",
        "## Tạo lớp input kích thước (None, 32, 32, 1)\n",
        "inputs = keras.layers.Input(shape=(32,32,1))\n",
        "\n",
        "### Block 1\n",
        "conv1 = Convolution2D(filters=64,\n",
        "                      kernel_size=[7,7],\n",
        "                      strides=[2,2],\n",
        "                      padding='same',\n",
        "                      kernel_regularizer=l2(l2_regularizer_rate),\n",
        "                      activation=None)(inputs)\n",
        "\n",
        "batch1 = BatchNormalization()(conv1)        ## lớp tf.keras.layers.BatchNormalization()\n",
        "\n",
        "relu1 = ReLU()(batch1)\n",
        "\n",
        "maxpool1 = MaxPool2D(pool_size=[2,2],\n",
        "                     strides=[2,2])(relu1)\n",
        "\n",
        "### Block 2\n",
        "\n",
        "res2_1 = BottleneckResidualBlock(n_filters=256,\n",
        "                        down_sampling=False,\n",
        "                        kernel_regularizer=l2(l2_regularizer_rate))(maxpool1)\n",
        "res2_2 = BottleneckResidualBlock(n_filters=256,\n",
        "                       down_sampling=False,\n",
        "                       kernel_regularizer=l2(l2_regularizer_rate))(res2_1)\n",
        "res2_3 = BottleneckResidualBlock(n_filters=256,\n",
        "                       down_sampling=False,\n",
        "                       kernel_regularizer=l2(l2_regularizer_rate))(res2_2)\n",
        "\n",
        "### Block 3\n",
        "\n",
        "res3_1 = BottleneckResidualBlock(n_filters=512,\n",
        "                       down_sampling=True,\n",
        "                       kernel_regularizer=l2(l2_regularizer_rate))(res2_3)\n",
        "res3_2 = BottleneckResidualBlock(n_filters=512,\n",
        "                       down_sampling=False,\n",
        "                       kernel_regularizer=l2(l2_regularizer_rate))(res3_1)\n",
        "res3_3 = BottleneckResidualBlock(n_filters=512,\n",
        "                       down_sampling=False,\n",
        "                       kernel_regularizer=l2(l2_regularizer_rate))(res3_2)\n",
        "res3_4 = BottleneckResidualBlock(n_filters=512,\n",
        "                       down_sampling=False,\n",
        "                       kernel_regularizer=l2(l2_regularizer_rate))(res3_3)\n",
        "\n",
        "### Block 4\n",
        "\n",
        "res4_1 = BottleneckResidualBlock(n_filters=1024,\n",
        "                       down_sampling=True,\n",
        "                       kernel_regularizer=l2(l2_regularizer_rate))(res3_4)\n",
        "res4_2 = BottleneckResidualBlock(n_filters=1024,\n",
        "                       down_sampling=False,\n",
        "                       kernel_regularizer=l2(l2_regularizer_rate))(res4_1)\n",
        "res4_3 = BottleneckResidualBlock(n_filters=1024,\n",
        "                       down_sampling=False,\n",
        "                       kernel_regularizer=l2(l2_regularizer_rate))(res4_2)\n",
        "res4_4 = BottleneckResidualBlock(n_filters=1024,\n",
        "                       down_sampling=False,\n",
        "                       kernel_regularizer=l2(l2_regularizer_rate))(res4_3)\n",
        "res4_5 = BottleneckResidualBlock(n_filters=1024,\n",
        "                       down_sampling=False,\n",
        "                       kernel_regularizer=l2(l2_regularizer_rate))(res4_4)\n",
        "res4_6 = BottleneckResidualBlock(n_filters=1024,\n",
        "                       down_sampling=False,\n",
        "                       kernel_regularizer=l2(l2_regularizer_rate))(res4_5)\n",
        "\n",
        "### Block 5\n",
        "\n",
        "res5_1 = BottleneckResidualBlock(n_filters=2048,\n",
        "                       down_sampling=True,\n",
        "                       kernel_regularizer=l2(l2_regularizer_rate))(res4_6)\n",
        "res5_2 = BottleneckResidualBlock(n_filters=2048,\n",
        "                       down_sampling=False,\n",
        "                       kernel_regularizer=l2(l2_regularizer_rate))(res5_1)\n",
        "res5_3 = BottleneckResidualBlock(n_filters=2048,\n",
        "                       down_sampling=False,\n",
        "                       kernel_regularizer=l2(l2_regularizer_rate))(res5_2)\n",
        "\n",
        "\n",
        "### Block Output\n",
        "\n",
        "avage_pool = GlobalAveragePooling2D()(res5_3)\n",
        "\n",
        "softmax = Dense(units=10, activation='softmax')(avage_pool)\n",
        "\n",
        "## Compile model\n",
        "model = keras.models.Model(inputs=inputs, outputs=softmax)\n",
        "model.compile(optimizer=keras.optimizers.Adam(learning_rate=0.0001),    ##tự khai báo Optimizer với learning rate 10^-4\n",
        "             loss=tf.keras.losses.sparse_categorical_crossentropy,\n",
        "             metrics=[\"accuracy\"])\n",
        "    \n",
        "\n",
        "## In toàn bộ cấu trúc của model\n",
        "print(\"Cấu trúc của model: \")\n",
        "model.summary()\n",
        "\n",
        "\n"
      ],
      "execution_count": 4,
      "outputs": [
        {
          "output_type": "stream",
          "text": [
            "WARNING:tensorflow:From /usr/local/lib/python3.6/dist-packages/tensorflow_core/python/ops/resource_variable_ops.py:1630: calling BaseResourceVariable.__init__ (from tensorflow.python.ops.resource_variable_ops) with constraint is deprecated and will be removed in a future version.\n",
            "Instructions for updating:\n",
            "If using Keras pass *_constraint arguments to layers.\n"
          ],
          "name": "stdout"
        },
        {
          "output_type": "stream",
          "text": [
            "Using TensorFlow backend.\n"
          ],
          "name": "stderr"
        },
        {
          "output_type": "stream",
          "text": [
            "Cấu trúc của model: \n",
            "Model: \"model\"\n",
            "_________________________________________________________________\n",
            "Layer (type)                 Output Shape              Param #   \n",
            "=================================================================\n",
            "input_1 (InputLayer)         [(None, 32, 32, 1)]       0         \n",
            "_________________________________________________________________\n",
            "conv2d (Conv2D)              (None, 16, 16, 64)        3200      \n",
            "_________________________________________________________________\n",
            "batch_normalization (BatchNo (None, 16, 16, 64)        256       \n",
            "_________________________________________________________________\n",
            "re_lu (ReLU)                 (None, 16, 16, 64)        0         \n",
            "_________________________________________________________________\n",
            "max_pooling2d (MaxPooling2D) (None, 8, 8, 64)          0         \n",
            "_________________________________________________________________\n",
            "bottleneck_residual_block (B (None, 8, 8, 256)         76928     \n",
            "_________________________________________________________________\n",
            "bottleneck_residual_block_1  (None, 8, 8, 256)         71552     \n",
            "_________________________________________________________________\n",
            "bottleneck_residual_block_2  (None, 8, 8, 256)         71552     \n",
            "_________________________________________________________________\n",
            "bottleneck_residual_block_3  (None, 4, 4, 512)         383232    \n",
            "_________________________________________________________________\n",
            "bottleneck_residual_block_4  (None, 4, 4, 512)         282368    \n",
            "_________________________________________________________________\n",
            "bottleneck_residual_block_5  (None, 4, 4, 512)         282368    \n",
            "_________________________________________________________________\n",
            "bottleneck_residual_block_6  (None, 4, 4, 512)         282368    \n",
            "_________________________________________________________________\n",
            "bottleneck_residual_block_7  (None, 2, 2, 1024)        1520128   \n",
            "_________________________________________________________________\n",
            "bottleneck_residual_block_8  (None, 2, 2, 1024)        1121792   \n",
            "_________________________________________________________________\n",
            "bottleneck_residual_block_9  (None, 2, 2, 1024)        1121792   \n",
            "_________________________________________________________________\n",
            "bottleneck_residual_block_10 (None, 2, 2, 1024)        1121792   \n",
            "_________________________________________________________________\n",
            "bottleneck_residual_block_11 (None, 2, 2, 1024)        1121792   \n",
            "_________________________________________________________________\n",
            "bottleneck_residual_block_12 (None, 2, 2, 1024)        1121792   \n",
            "_________________________________________________________________\n",
            "bottleneck_residual_block_13 (None, 1, 1, 2048)        6054912   \n",
            "_________________________________________________________________\n",
            "bottleneck_residual_block_14 (None, 1, 1, 2048)        4471808   \n",
            "_________________________________________________________________\n",
            "bottleneck_residual_block_15 (None, 1, 1, 2048)        4471808   \n",
            "_________________________________________________________________\n",
            "global_average_pooling2d (Gl (None, 2048)              0         \n",
            "_________________________________________________________________\n",
            "dense (Dense)                (None, 10)                20490     \n",
            "=================================================================\n",
            "Total params: 23,601,930\n",
            "Trainable params: 23,548,810\n",
            "Non-trainable params: 53,120\n",
            "_________________________________________________________________\n"
          ],
          "name": "stdout"
        }
      ]
    },
    {
      "cell_type": "markdown",
      "metadata": {
        "colab_type": "text",
        "id": "8hnPV9b7EBOu"
      },
      "source": [
        "### 1.3 Resize MNIST"
      ]
    },
    {
      "cell_type": "code",
      "metadata": {
        "colab_type": "code",
        "id": "ZzEiSsxeEBOv",
        "outputId": "324590bb-dfc2-43f4-f39e-9369b636945e",
        "colab": {
          "base_uri": "https://localhost:8080/",
          "height": 67
        }
      },
      "source": [
        "## tải MNIST dataset từ keras\n",
        "(X_train, y_train), (X_test, y_test) = keras.datasets.mnist.load_data()\n",
        "##resacle ảnh thành ảnh thực trong đoạn [0,1]\n",
        "X_train, X_test = X_train/255.0, X_test/255.0\n",
        "\n",
        "##in dataset\n",
        "print(X_train.shape, y_train.shape, X_test.shape, y_test.shape)\n",
        "\n"
      ],
      "execution_count": 5,
      "outputs": [
        {
          "output_type": "stream",
          "text": [
            "Downloading data from https://storage.googleapis.com/tensorflow/tf-keras-datasets/mnist.npz\n",
            "11493376/11490434 [==============================] - 0s 0us/step\n",
            "(60000, 28, 28) (60000,) (10000, 28, 28) (10000,)\n"
          ],
          "name": "stdout"
        }
      ]
    },
    {
      "cell_type": "markdown",
      "metadata": {
        "colab_type": "text",
        "id": "4LI5lEktEBOy"
      },
      "source": [
        "Do VGG-16 yêu cầu ảnh kích thước tối thiểu 32x32. Chúng ta resize ảnh thành 32x32 để cho vào VGG"
      ]
    },
    {
      "cell_type": "code",
      "metadata": {
        "colab_type": "code",
        "id": "rbLofc7iEBOz",
        "outputId": "5bb21b82-0411-45e0-c6a0-dbf0610fff5d",
        "colab": {
          "base_uri": "https://localhost:8080/",
          "height": 34
        }
      },
      "source": [
        "import cv2\n",
        "resized_img = cv2.resize(X_train[0], dsize=(32,32))\n",
        "print(\"Kích thước ảnh sau resize: \", resized_img.shape)"
      ],
      "execution_count": 6,
      "outputs": [
        {
          "output_type": "stream",
          "text": [
            "Kích thước ảnh sau resize:  (32, 32)\n"
          ],
          "name": "stdout"
        }
      ]
    },
    {
      "cell_type": "code",
      "metadata": {
        "colab_type": "code",
        "id": "FQNoy_veEBO1",
        "outputId": "478ac56a-51b8-46fb-fd18-cf8470fae7c7",
        "colab": {
          "base_uri": "https://localhost:8080/",
          "height": 549
        }
      },
      "source": [
        "## Resize toàn bộ ảnh train tập train và test\n",
        "X_train = np.array([cv2.resize(img, dsize=(32,32)) for img in X_train])\n",
        "X_test = np.array([cv2.resize(img, dsize=(32,32)) for img in X_test])\n",
        "print(\"Kích thước tập sau khi resize: \", X_train.shape, X_test.shape)\n",
        "\n",
        "## In xem ảnh còn ổn không sau khi resize\n",
        "plt.imshow(X_train[0])\n",
        "plt.show()\n",
        "\n",
        "## Reshape ảnh để phù hợp với input của model (thêm một trục)\n",
        "X_train = np.expand_dims(X_train, axis=-1)\n",
        "X_test = np.expand_dims(X_test, axis=-1)\n",
        "print(\"Kích thước tập sau khi reshape: \", X_train.shape, X_test.shape)\n",
        "\n",
        "plt.imshow(X_train[0,:,:,0])\n",
        "plt.show()\n",
        "\n",
        "#Tách một phần tập train thành tập valid\n",
        "from sklearn.model_selection import train_test_split\n",
        "X_train, X_valid, y_train, y_valid = train_test_split(X_train, y_train, test_size=0.1)\n",
        "\n",
        "## Reshape ảnh để phù hợp với input của model (thêm một trục)"
      ],
      "execution_count": 7,
      "outputs": [
        {
          "output_type": "stream",
          "text": [
            "Kích thước tập sau khi resize:  (60000, 32, 32) (10000, 32, 32)\n"
          ],
          "name": "stdout"
        },
        {
          "output_type": "display_data",
          "data": {
            "image/png": "[encoded data removed]",
            "text/plain": [
              "<Figure size 432x288 with 1 Axes>"
            ]
          },
          "metadata": {
            "tags": []
          }
        },
        {
          "output_type": "stream",
          "text": [
            "Kích thước tập sau khi reshape:  (60000, 32, 32, 1) (10000, 32, 32, 1)\n"
          ],
          "name": "stdout"
        },
        {
          "output_type": "display_data",
          "data": {
            "image/png": "[encoded data removed]",
            "text/plain": [
              "<Figure size 432x288 with 1 Axes>"
            ]
          },
          "metadata": {
            "tags": []
          }
        }
      ]
    },
    {
      "cell_type": "markdown",
      "metadata": {
        "id": "ntAElAuflziO",
        "colab_type": "text"
      },
      "source": [
        "### 1.4 Train"
      ]
    },
    {
      "cell_type": "code",
      "metadata": {
        "colab_type": "code",
        "id": "OzVdTvPGEBO3",
        "outputId": "3898e2e4-f010-4230-f215-fc7a05460231",
        "colab": {
          "base_uri": "https://localhost:8080/",
          "height": 487
        }
      },
      "source": [
        "mc = keras.callbacks.ModelCheckpoint(filepath=\"resnet34_mnist.h5\", \n",
        "                                     monitor='val_loss',\n",
        "                                     mode='min', \n",
        "                                     verbose=0, \n",
        "                                     save_best_only=True)\n",
        "\n",
        "## Train  ## Khuyến cáo chạy COLAB (hoặc tương tự)\n",
        "history = model.fit(X_train, y_train,\n",
        "                    batch_size=100,\n",
        "                    epochs=10,\n",
        "                    validation_data=(X_valid, y_valid),\n",
        "                    callbacks=[mc])                    \n",
        "\n",
        "\n",
        "## Đánh giá model trên tập test\n",
        "valid_loss, valid_acc = model.evaluate(X_valid, y_valid)\n",
        "test_loss, test_acc = model.evaluate(X_test, y_test)\n",
        "print(\"Valid: loss {} acc {} -- Test: loss {} valid {}\".format(valid_loss, valid_acc, test_loss, test_acc))\n",
        "\n",
        "## Load lại model tốt nhất đã lưu\n",
        "print(\"best model: \")\n",
        "model.load_weights(\"resnet34_mnist.h5\")\n",
        "valid_loss, valid_acc = model.evaluate(X_valid, y_valid)\n",
        "test_loss, test_acc = model.evaluate(X_test, y_test)\n",
        "print(\"Valid: loss {} acc {} -- Test: loss {} valid {}\".format(valid_loss, valid_acc, test_loss, test_acc))"
      ],
      "execution_count": 8,
      "outputs": [
        {
          "output_type": "stream",
          "text": [
            "Train on 54000 samples, validate on 6000 samples\n",
            "Epoch 1/10\n",
            "54000/54000 [==============================] - 115s 2ms/sample - loss: 2.7791 - acc: 0.6622 - val_loss: 2.9750 - val_acc: 0.5683\n",
            "Epoch 2/10\n",
            "54000/54000 [==============================] - 99s 2ms/sample - loss: 1.9923 - acc: 0.8974 - val_loss: 1.9343 - val_acc: 0.9172\n",
            "Epoch 3/10\n",
            "54000/54000 [==============================] - 99s 2ms/sample - loss: 1.8329 - acc: 0.9455 - val_loss: 1.8596 - val_acc: 0.9370\n",
            "Epoch 4/10\n",
            "54000/54000 [==============================] - 98s 2ms/sample - loss: 1.7487 - acc: 0.9685 - val_loss: 1.8333 - val_acc: 0.9423\n",
            "Epoch 5/10\n",
            "54000/54000 [==============================] - 98s 2ms/sample - loss: 1.7105 - acc: 0.9769 - val_loss: 1.8187 - val_acc: 0.9498\n",
            "Epoch 6/10\n",
            "54000/54000 [==============================] - 98s 2ms/sample - loss: 1.6850 - acc: 0.9791 - val_loss: 1.7633 - val_acc: 0.9597\n",
            "Epoch 7/10\n",
            "54000/54000 [==============================] - 98s 2ms/sample - loss: 1.6470 - acc: 0.9847 - val_loss: 1.7410 - val_acc: 0.9602\n",
            "Epoch 8/10\n",
            "54000/54000 [==============================] - 98s 2ms/sample - loss: 1.6163 - acc: 0.9859 - val_loss: 1.6985 - val_acc: 0.9630\n",
            "Epoch 9/10\n",
            "54000/54000 [==============================] - 98s 2ms/sample - loss: 1.5845 - acc: 0.9851 - val_loss: 1.6505 - val_acc: 0.9645\n",
            "Epoch 10/10\n",
            "54000/54000 [==============================] - 98s 2ms/sample - loss: 1.5362 - acc: 0.9884 - val_loss: 1.6098 - val_acc: 0.9680\n",
            "6000/6000 [==============================] - 6s 1ms/sample - loss: 1.6098 - acc: 0.9680\n",
            "10000/10000 [==============================] - 9s 917us/sample - loss: 1.6087 - acc: 0.9655\n",
            "Valid: loss 1.6098048407236736 acc 0.9679999947547913 -- Test: loss 1.6087136882781983 valid 0.965499997138977\n",
            "best model: \n",
            "6000/6000 [==============================] - 6s 927us/sample - loss: 1.6098 - acc: 0.9680\n",
            "10000/10000 [==============================] - 9s 926us/sample - loss: 1.6087 - acc: 0.9655\n",
            "Valid: loss 1.6098048407236736 acc 0.9679999947547913 -- Test: loss 1.6087136882781983 valid 0.965499997138977\n"
          ],
          "name": "stdout"
        }
      ]
    }
  ]
}